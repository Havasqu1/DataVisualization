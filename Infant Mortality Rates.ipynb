{
 "cells": [
  {
   "cell_type": "markdown",
   "metadata": {},
   "source": [
    "# Infant Mortality Rates Over Time"
   ]
  },
  {
   "cell_type": "markdown",
   "metadata": {},
   "source": [
    "The dataset is provided by UNICIF and tracks infant mortality rate year-over-year for each country from 1970-2020. Per UNICEF, infant mortality rate <i>\"refers to the probability of dying between birth and exactly 1 year of age, expressed per 1,000 live births.\"</i>"
   ]
  },
  {
   "cell_type": "code",
   "execution_count": 2,
   "metadata": {},
   "outputs": [],
   "source": [
    "#Import necessary packages\n",
    "import pandas as pd\n",
    "import numpy as np\n",
    "import plotly.express as px"
   ]
  },
  {
   "cell_type": "markdown",
   "metadata": {},
   "source": [
    "## The Dataset"
   ]
  },
  {
   "cell_type": "code",
   "execution_count": 8,
   "metadata": {},
   "outputs": [
    {
     "data": {
      "text/html": [
       "<div>\n",
       "<style scoped>\n",
       "    .dataframe tbody tr th:only-of-type {\n",
       "        vertical-align: middle;\n",
       "    }\n",
       "\n",
       "    .dataframe tbody tr th {\n",
       "        vertical-align: top;\n",
       "    }\n",
       "\n",
       "    .dataframe thead th {\n",
       "        text-align: right;\n",
       "    }\n",
       "</style>\n",
       "<table border=\"1\" class=\"dataframe\">\n",
       "  <thead>\n",
       "    <tr style=\"text-align: right;\">\n",
       "      <th></th>\n",
       "      <th>Country</th>\n",
       "      <th>Indicator</th>\n",
       "      <th>Sex</th>\n",
       "      <th>COUNTRY_NOTES</th>\n",
       "      <th>TIME_PERIOD</th>\n",
       "      <th>OBS_VALUE</th>\n",
       "      <th>REF_PERIOD</th>\n",
       "      <th>Unit of measure</th>\n",
       "      <th>LOWER_BOUND</th>\n",
       "      <th>UPPER_BOUND</th>\n",
       "      <th>Observation Status</th>\n",
       "    </tr>\n",
       "  </thead>\n",
       "  <tbody>\n",
       "    <tr>\n",
       "      <th>149</th>\n",
       "      <td>Afghanistan</td>\n",
       "      <td>Infant mortality rate</td>\n",
       "      <td>Total</td>\n",
       "      <td>NaN</td>\n",
       "      <td>1962</td>\n",
       "      <td>232.046064</td>\n",
       "      <td>NaN</td>\n",
       "      <td>Deaths per 1000 live births</td>\n",
       "      <td>200.307602</td>\n",
       "      <td>271.837022</td>\n",
       "      <td>Normal value</td>\n",
       "    </tr>\n",
       "    <tr>\n",
       "      <th>150</th>\n",
       "      <td>Afghanistan</td>\n",
       "      <td>Infant mortality rate</td>\n",
       "      <td>Total</td>\n",
       "      <td>NaN</td>\n",
       "      <td>1963</td>\n",
       "      <td>227.831114</td>\n",
       "      <td>NaN</td>\n",
       "      <td>Deaths per 1000 live births</td>\n",
       "      <td>198.401562</td>\n",
       "      <td>264.843856</td>\n",
       "      <td>Normal value</td>\n",
       "    </tr>\n",
       "    <tr>\n",
       "      <th>151</th>\n",
       "      <td>Afghanistan</td>\n",
       "      <td>Infant mortality rate</td>\n",
       "      <td>Total</td>\n",
       "      <td>NaN</td>\n",
       "      <td>1964</td>\n",
       "      <td>223.853006</td>\n",
       "      <td>NaN</td>\n",
       "      <td>Deaths per 1000 live births</td>\n",
       "      <td>195.948023</td>\n",
       "      <td>257.863161</td>\n",
       "      <td>Normal value</td>\n",
       "    </tr>\n",
       "    <tr>\n",
       "      <th>152</th>\n",
       "      <td>Afghanistan</td>\n",
       "      <td>Infant mortality rate</td>\n",
       "      <td>Total</td>\n",
       "      <td>NaN</td>\n",
       "      <td>1965</td>\n",
       "      <td>219.923607</td>\n",
       "      <td>NaN</td>\n",
       "      <td>Deaths per 1000 live births</td>\n",
       "      <td>193.167091</td>\n",
       "      <td>252.167904</td>\n",
       "      <td>Normal value</td>\n",
       "    </tr>\n",
       "    <tr>\n",
       "      <th>153</th>\n",
       "      <td>Afghanistan</td>\n",
       "      <td>Infant mortality rate</td>\n",
       "      <td>Total</td>\n",
       "      <td>NaN</td>\n",
       "      <td>1966</td>\n",
       "      <td>216.060075</td>\n",
       "      <td>NaN</td>\n",
       "      <td>Deaths per 1000 live births</td>\n",
       "      <td>190.219725</td>\n",
       "      <td>247.611600</td>\n",
       "      <td>Normal value</td>\n",
       "    </tr>\n",
       "    <tr>\n",
       "      <th>...</th>\n",
       "      <td>...</td>\n",
       "      <td>...</td>\n",
       "      <td>...</td>\n",
       "      <td>...</td>\n",
       "      <td>...</td>\n",
       "      <td>...</td>\n",
       "      <td>...</td>\n",
       "      <td>...</td>\n",
       "      <td>...</td>\n",
       "      <td>...</td>\n",
       "      <td>...</td>\n",
       "    </tr>\n",
       "    <tr>\n",
       "      <th>357196</th>\n",
       "      <td>Zimbabwe</td>\n",
       "      <td>Infant mortality rate</td>\n",
       "      <td>Total</td>\n",
       "      <td>NaN</td>\n",
       "      <td>2015</td>\n",
       "      <td>42.868009</td>\n",
       "      <td>NaN</td>\n",
       "      <td>Deaths per 1000 live births</td>\n",
       "      <td>38.455971</td>\n",
       "      <td>47.714346</td>\n",
       "      <td>Normal value</td>\n",
       "    </tr>\n",
       "    <tr>\n",
       "      <th>357197</th>\n",
       "      <td>Zimbabwe</td>\n",
       "      <td>Infant mortality rate</td>\n",
       "      <td>Total</td>\n",
       "      <td>NaN</td>\n",
       "      <td>2016</td>\n",
       "      <td>41.392057</td>\n",
       "      <td>NaN</td>\n",
       "      <td>Deaths per 1000 live births</td>\n",
       "      <td>36.468988</td>\n",
       "      <td>46.917564</td>\n",
       "      <td>Normal value</td>\n",
       "    </tr>\n",
       "    <tr>\n",
       "      <th>357198</th>\n",
       "      <td>Zimbabwe</td>\n",
       "      <td>Infant mortality rate</td>\n",
       "      <td>Total</td>\n",
       "      <td>NaN</td>\n",
       "      <td>2017</td>\n",
       "      <td>40.517294</td>\n",
       "      <td>NaN</td>\n",
       "      <td>Deaths per 1000 live births</td>\n",
       "      <td>34.735030</td>\n",
       "      <td>47.059759</td>\n",
       "      <td>Normal value</td>\n",
       "    </tr>\n",
       "    <tr>\n",
       "      <th>357199</th>\n",
       "      <td>Zimbabwe</td>\n",
       "      <td>Infant mortality rate</td>\n",
       "      <td>Total</td>\n",
       "      <td>NaN</td>\n",
       "      <td>2018</td>\n",
       "      <td>39.273756</td>\n",
       "      <td>NaN</td>\n",
       "      <td>Deaths per 1000 live births</td>\n",
       "      <td>32.471826</td>\n",
       "      <td>47.225792</td>\n",
       "      <td>Normal value</td>\n",
       "    </tr>\n",
       "    <tr>\n",
       "      <th>357200</th>\n",
       "      <td>Zimbabwe</td>\n",
       "      <td>Infant mortality rate</td>\n",
       "      <td>Total</td>\n",
       "      <td>NaN</td>\n",
       "      <td>2019</td>\n",
       "      <td>38.423776</td>\n",
       "      <td>NaN</td>\n",
       "      <td>Deaths per 1000 live births</td>\n",
       "      <td>30.455060</td>\n",
       "      <td>47.928436</td>\n",
       "      <td>Normal value</td>\n",
       "    </tr>\n",
       "  </tbody>\n",
       "</table>\n",
       "<p>12479 rows × 11 columns</p>\n",
       "</div>"
      ],
      "text/plain": [
       "            Country              Indicator    Sex COUNTRY_NOTES  TIME_PERIOD  \\\n",
       "149     Afghanistan  Infant mortality rate  Total           NaN         1962   \n",
       "150     Afghanistan  Infant mortality rate  Total           NaN         1963   \n",
       "151     Afghanistan  Infant mortality rate  Total           NaN         1964   \n",
       "152     Afghanistan  Infant mortality rate  Total           NaN         1965   \n",
       "153     Afghanistan  Infant mortality rate  Total           NaN         1966   \n",
       "...             ...                    ...    ...           ...          ...   \n",
       "357196     Zimbabwe  Infant mortality rate  Total           NaN         2015   \n",
       "357197     Zimbabwe  Infant mortality rate  Total           NaN         2016   \n",
       "357198     Zimbabwe  Infant mortality rate  Total           NaN         2017   \n",
       "357199     Zimbabwe  Infant mortality rate  Total           NaN         2018   \n",
       "357200     Zimbabwe  Infant mortality rate  Total           NaN         2019   \n",
       "\n",
       "         OBS_VALUE REF_PERIOD              Unit of measure  LOWER_BOUND  \\\n",
       "149     232.046064        NaN  Deaths per 1000 live births   200.307602   \n",
       "150     227.831114        NaN  Deaths per 1000 live births   198.401562   \n",
       "151     223.853006        NaN  Deaths per 1000 live births   195.948023   \n",
       "152     219.923607        NaN  Deaths per 1000 live births   193.167091   \n",
       "153     216.060075        NaN  Deaths per 1000 live births   190.219725   \n",
       "...            ...        ...                          ...          ...   \n",
       "357196   42.868009        NaN  Deaths per 1000 live births    38.455971   \n",
       "357197   41.392057        NaN  Deaths per 1000 live births    36.468988   \n",
       "357198   40.517294        NaN  Deaths per 1000 live births    34.735030   \n",
       "357199   39.273756        NaN  Deaths per 1000 live births    32.471826   \n",
       "357200   38.423776        NaN  Deaths per 1000 live births    30.455060   \n",
       "\n",
       "        UPPER_BOUND Observation Status  \n",
       "149      271.837022       Normal value  \n",
       "150      264.843856       Normal value  \n",
       "151      257.863161       Normal value  \n",
       "152      252.167904       Normal value  \n",
       "153      247.611600       Normal value  \n",
       "...             ...                ...  \n",
       "357196    47.714346       Normal value  \n",
       "357197    46.917564       Normal value  \n",
       "357198    47.059759       Normal value  \n",
       "357199    47.225792       Normal value  \n",
       "357200    47.928436       Normal value  \n",
       "\n",
       "[12479 rows x 11 columns]"
      ]
     },
     "execution_count": 8,
     "metadata": {},
     "output_type": "execute_result"
    }
   ],
   "source": [
    "data = pd.read_csv(\"fusion_CME_UNICEF_1.0_all.csv\", low_memory=False)\n",
    "data.head()"
   ]
  },
  {
   "cell_type": "markdown",
   "metadata": {},
   "source": [
    "## Categorical Variables"
   ]
  },
  {
   "cell_type": "code",
   "execution_count": 14,
   "metadata": {},
   "outputs": [
    {
     "name": "stdout",
     "output_type": "stream",
     "text": [
      "['Total' 'Female' 'Male']\n",
      "['Neonatal mortality rate' 'Infant mortality rate'\n",
      " 'Under-five mortality rate' 'Mortality rate age 10-14'\n",
      " 'Mortality rate age 10-19' 'Mortality rate age 15-19'\n",
      " 'Mortality rate age 15-24' 'Child mortality rate (aged 1-4 years)'\n",
      " 'Mortality rate age 20-24' 'Mortality rate (children aged 5 to 14 years)'\n",
      " 'Mortality rate age 5-24' 'Mortality rate age 5-9' 'Stillbirths'\n",
      " 'Stillbirth rate' 'Neonatal deaths' 'Infant deaths' 'Under-five deaths'\n",
      " 'Deaths aged 10 to 14' 'Deaths aged 10 to 19' 'Deaths aged 15 to 19'\n",
      " 'Deaths aged 15 to 24' 'Child deaths (aged 1-4 years)'\n",
      " 'Deaths aged 20 to 24' 'Deaths (children aged 5-14)'\n",
      " 'Deaths aged 5 to 24' 'Deaths aged 5 to 9'\n",
      " 'Annual rate of reduction in under-five mortality rate (2000-2018)'\n",
      " 'Neonatal deaths as a percentage of under-five deaths']\n",
      "['Deaths per 1000 live births' 'Deaths per 1000 children aged 10'\n",
      " 'Deaths per 1000 children aged 15' 'Deaths per 1000 children aged 1'\n",
      " 'Deaths per 1000 children aged 20' 'Deaths per 1000 children aged 5'\n",
      " 'Number of stillbirths' 'Stillbirths per 1,000 total births'\n",
      " 'Number of deaths' 'Ratio' '%']\n"
     ]
    }
   ],
   "source": [
    "print(data['Sex'].unique())\n",
    "print(data['Indicator'].unique())\n",
    "print(data['Unit of measure'].unique())"
   ]
  },
  {
   "cell_type": "markdown",
   "metadata": {},
   "source": [
    "The data includes measurements for total mortality rate as well as the breakouts by male-female. We'll breakout this dataset into two different sets: one containing just the Total value and a second containing Male and Female values.\n",
    "\n",
    "As far as the variables needed to continue the analysis, the <i>Indicator</i> variable includes different measurements. We're interested in infant mortality rate, so we'll filter for 'Infant mortality rate' as the indicator variable. We'll also exclude the other non-important variables such as <i>country_notes, ref_period, lower_bound, upper_nound and observation status</i>."
   ]
  },
  {
   "cell_type": "code",
   "execution_count": 40,
   "metadata": {},
   "outputs": [],
   "source": [
    "#total value dataset\n",
    "data_total = data[ ( (data.Sex == 'Total') & (data.Indicator == 'Infant mortality rate') ) ]\n",
    "data_total = data_total.loc[:, [\"Country\", \"Indicator\", \"Sex\", \"TIME_PERIOD\", \"OBS_VALUE\", \"Unit of measure\"]].reset_index(drop=True)\n",
    "\n",
    "#sex value dataset\n",
    "data_sex = data[ (data.Sex != 'Total') & (data.Indicator == 'Infant mortality rate')]\n",
    "data_sex = data_sex.loc[:, [\"Country\", \"Indicator\", \"Sex\", \"TIME_PERIOD\", \"OBS_VALUE\", \"Unit of measure\"]].reset_index(drop=True)"
   ]
  },
  {
   "cell_type": "markdown",
   "metadata": {},
   "source": [
    "## Total Dataset"
   ]
  },
  {
   "cell_type": "code",
   "execution_count": 41,
   "metadata": {},
   "outputs": [
    {
     "data": {
      "text/html": [
       "<div>\n",
       "<style scoped>\n",
       "    .dataframe tbody tr th:only-of-type {\n",
       "        vertical-align: middle;\n",
       "    }\n",
       "\n",
       "    .dataframe tbody tr th {\n",
       "        vertical-align: top;\n",
       "    }\n",
       "\n",
       "    .dataframe thead th {\n",
       "        text-align: right;\n",
       "    }\n",
       "</style>\n",
       "<table border=\"1\" class=\"dataframe\">\n",
       "  <thead>\n",
       "    <tr style=\"text-align: right;\">\n",
       "      <th></th>\n",
       "      <th>Country</th>\n",
       "      <th>Indicator</th>\n",
       "      <th>Sex</th>\n",
       "      <th>TIME_PERIOD</th>\n",
       "      <th>OBS_VALUE</th>\n",
       "      <th>Unit of measure</th>\n",
       "    </tr>\n",
       "  </thead>\n",
       "  <tbody>\n",
       "    <tr>\n",
       "      <th>0</th>\n",
       "      <td>Afghanistan</td>\n",
       "      <td>Infant mortality rate</td>\n",
       "      <td>Total</td>\n",
       "      <td>1962</td>\n",
       "      <td>232.046064</td>\n",
       "      <td>Deaths per 1000 live births</td>\n",
       "    </tr>\n",
       "    <tr>\n",
       "      <th>1</th>\n",
       "      <td>Afghanistan</td>\n",
       "      <td>Infant mortality rate</td>\n",
       "      <td>Total</td>\n",
       "      <td>1963</td>\n",
       "      <td>227.831114</td>\n",
       "      <td>Deaths per 1000 live births</td>\n",
       "    </tr>\n",
       "    <tr>\n",
       "      <th>2</th>\n",
       "      <td>Afghanistan</td>\n",
       "      <td>Infant mortality rate</td>\n",
       "      <td>Total</td>\n",
       "      <td>1964</td>\n",
       "      <td>223.853006</td>\n",
       "      <td>Deaths per 1000 live births</td>\n",
       "    </tr>\n",
       "    <tr>\n",
       "      <th>3</th>\n",
       "      <td>Afghanistan</td>\n",
       "      <td>Infant mortality rate</td>\n",
       "      <td>Total</td>\n",
       "      <td>1965</td>\n",
       "      <td>219.923607</td>\n",
       "      <td>Deaths per 1000 live births</td>\n",
       "    </tr>\n",
       "    <tr>\n",
       "      <th>4</th>\n",
       "      <td>Afghanistan</td>\n",
       "      <td>Infant mortality rate</td>\n",
       "      <td>Total</td>\n",
       "      <td>1966</td>\n",
       "      <td>216.060075</td>\n",
       "      <td>Deaths per 1000 live births</td>\n",
       "    </tr>\n",
       "  </tbody>\n",
       "</table>\n",
       "</div>"
      ],
      "text/plain": [
       "       Country              Indicator    Sex  TIME_PERIOD   OBS_VALUE  \\\n",
       "0  Afghanistan  Infant mortality rate  Total         1962  232.046064   \n",
       "1  Afghanistan  Infant mortality rate  Total         1963  227.831114   \n",
       "2  Afghanistan  Infant mortality rate  Total         1964  223.853006   \n",
       "3  Afghanistan  Infant mortality rate  Total         1965  219.923607   \n",
       "4  Afghanistan  Infant mortality rate  Total         1966  216.060075   \n",
       "\n",
       "               Unit of measure  \n",
       "0  Deaths per 1000 live births  \n",
       "1  Deaths per 1000 live births  \n",
       "2  Deaths per 1000 live births  \n",
       "3  Deaths per 1000 live births  \n",
       "4  Deaths per 1000 live births  "
      ]
     },
     "execution_count": 41,
     "metadata": {},
     "output_type": "execute_result"
    }
   ],
   "source": [
    "data_total.head()"
   ]
  },
  {
   "cell_type": "markdown",
   "metadata": {},
   "source": [
    "# Sex Dataset"
   ]
  },
  {
   "cell_type": "code",
   "execution_count": 42,
   "metadata": {},
   "outputs": [
    {
     "data": {
      "text/html": [
       "<div>\n",
       "<style scoped>\n",
       "    .dataframe tbody tr th:only-of-type {\n",
       "        vertical-align: middle;\n",
       "    }\n",
       "\n",
       "    .dataframe tbody tr th {\n",
       "        vertical-align: top;\n",
       "    }\n",
       "\n",
       "    .dataframe thead th {\n",
       "        text-align: right;\n",
       "    }\n",
       "</style>\n",
       "<table border=\"1\" class=\"dataframe\">\n",
       "  <thead>\n",
       "    <tr style=\"text-align: right;\">\n",
       "      <th></th>\n",
       "      <th>Country</th>\n",
       "      <th>Indicator</th>\n",
       "      <th>Sex</th>\n",
       "      <th>TIME_PERIOD</th>\n",
       "      <th>OBS_VALUE</th>\n",
       "      <th>Unit of measure</th>\n",
       "    </tr>\n",
       "  </thead>\n",
       "  <tbody>\n",
       "    <tr>\n",
       "      <th>0</th>\n",
       "      <td>Afghanistan</td>\n",
       "      <td>Infant mortality rate</td>\n",
       "      <td>Female</td>\n",
       "      <td>1962</td>\n",
       "      <td>219.791534</td>\n",
       "      <td>Deaths per 1000 live births</td>\n",
       "    </tr>\n",
       "    <tr>\n",
       "      <th>1</th>\n",
       "      <td>Afghanistan</td>\n",
       "      <td>Infant mortality rate</td>\n",
       "      <td>Female</td>\n",
       "      <td>1963</td>\n",
       "      <td>215.935231</td>\n",
       "      <td>Deaths per 1000 live births</td>\n",
       "    </tr>\n",
       "    <tr>\n",
       "      <th>2</th>\n",
       "      <td>Afghanistan</td>\n",
       "      <td>Infant mortality rate</td>\n",
       "      <td>Female</td>\n",
       "      <td>1964</td>\n",
       "      <td>212.297057</td>\n",
       "      <td>Deaths per 1000 live births</td>\n",
       "    </tr>\n",
       "    <tr>\n",
       "      <th>3</th>\n",
       "      <td>Afghanistan</td>\n",
       "      <td>Infant mortality rate</td>\n",
       "      <td>Female</td>\n",
       "      <td>1965</td>\n",
       "      <td>208.879546</td>\n",
       "      <td>Deaths per 1000 live births</td>\n",
       "    </tr>\n",
       "    <tr>\n",
       "      <th>4</th>\n",
       "      <td>Afghanistan</td>\n",
       "      <td>Infant mortality rate</td>\n",
       "      <td>Female</td>\n",
       "      <td>1966</td>\n",
       "      <td>205.311654</td>\n",
       "      <td>Deaths per 1000 live births</td>\n",
       "    </tr>\n",
       "  </tbody>\n",
       "</table>\n",
       "</div>"
      ],
      "text/plain": [
       "       Country              Indicator     Sex  TIME_PERIOD   OBS_VALUE  \\\n",
       "0  Afghanistan  Infant mortality rate  Female         1962  219.791534   \n",
       "1  Afghanistan  Infant mortality rate  Female         1963  215.935231   \n",
       "2  Afghanistan  Infant mortality rate  Female         1964  212.297057   \n",
       "3  Afghanistan  Infant mortality rate  Female         1965  208.879546   \n",
       "4  Afghanistan  Infant mortality rate  Female         1966  205.311654   \n",
       "\n",
       "               Unit of measure  \n",
       "0  Deaths per 1000 live births  \n",
       "1  Deaths per 1000 live births  \n",
       "2  Deaths per 1000 live births  \n",
       "3  Deaths per 1000 live births  \n",
       "4  Deaths per 1000 live births  "
      ]
     },
     "execution_count": 42,
     "metadata": {},
     "output_type": "execute_result"
    }
   ],
   "source": [
    "data_sex.head()"
   ]
  },
  {
   "cell_type": "markdown",
   "metadata": {},
   "source": [
    "# World Infant Mortality Rates Over Time"
   ]
  },
  {
   "cell_type": "code",
   "execution_count": 7,
   "metadata": {},
   "outputs": [
    {
     "ename": "NameError",
     "evalue": "name 'data_total' is not defined",
     "output_type": "error",
     "traceback": [
      "\u001b[0;31m---------------------------------------------------------------------------\u001b[0m",
      "\u001b[0;31mNameError\u001b[0m                                 Traceback (most recent call last)",
      "\u001b[0;32m<ipython-input-7-40fb8703d1fc>\u001b[0m in \u001b[0;36m<module>\u001b[0;34m\u001b[0m\n\u001b[0;32m----> 1\u001b[0;31m \u001b[0mfig\u001b[0m \u001b[0;34m=\u001b[0m \u001b[0mpx\u001b[0m\u001b[0;34m.\u001b[0m\u001b[0mline\u001b[0m\u001b[0;34m(\u001b[0m\u001b[0mdata_total\u001b[0m\u001b[0;34m,\u001b[0m \u001b[0mx\u001b[0m\u001b[0;34m=\u001b[0m\u001b[0;34m'TIME_PERIOD'\u001b[0m\u001b[0;34m,\u001b[0m \u001b[0my\u001b[0m\u001b[0;34m=\u001b[0m\u001b[0;34m'OBS_VALUE'\u001b[0m\u001b[0;34m,\u001b[0m \u001b[0mcolor\u001b[0m\u001b[0;34m=\u001b[0m\u001b[0;34m'Country'\u001b[0m\u001b[0;34m)\u001b[0m\u001b[0;34m\u001b[0m\u001b[0;34m\u001b[0m\u001b[0m\n\u001b[0m\u001b[1;32m      2\u001b[0m \u001b[0mfig\u001b[0m\u001b[0;34m.\u001b[0m\u001b[0mshow\u001b[0m\u001b[0;34m(\u001b[0m\u001b[0;34m)\u001b[0m\u001b[0;34m\u001b[0m\u001b[0;34m\u001b[0m\u001b[0m\n\u001b[1;32m      3\u001b[0m \u001b[0;34m\u001b[0m\u001b[0m\n\u001b[1;32m      4\u001b[0m \u001b[0mdata\u001b[0m\u001b[0;34m[\u001b[0m\u001b[0;34m(\u001b[0m\u001b[0mdata\u001b[0m\u001b[0;34m.\u001b[0m\u001b[0mIndicator\u001b[0m \u001b[0;34m==\u001b[0m \u001b[0;34m'Infant mortality rate'\u001b[0m\u001b[0;34m)\u001b[0m \u001b[0;34m&\u001b[0m \u001b[0;34m(\u001b[0m\u001b[0mdata\u001b[0m\u001b[0;34m.\u001b[0m\u001b[0mSex\u001b[0m \u001b[0;34m==\u001b[0m \u001b[0;34m'Total'\u001b[0m\u001b[0;34m)\u001b[0m\u001b[0;34m]\u001b[0m\u001b[0;34m\u001b[0m\u001b[0;34m\u001b[0m\u001b[0m\n",
      "\u001b[0;31mNameError\u001b[0m: name 'data_total' is not defined"
     ]
    }
   ],
   "source": [
    "fig = px.line(data_total, x='TIME_PERIOD', y='OBS_VALUE', color='Country')\n",
    "fig.show()\n",
    "\n"
   ]
  },
  {
   "cell_type": "markdown",
   "metadata": {},
   "source": [
    "Although the graphic above is clustered, the downward trend is apparent for all countries across the world. Plotly allows for an interactive trend and we can select the World infant mortality rate which shows a constant decline since 1990. There are definitely some instances in which the infant mortality rate increases for some period. Certain cases can be tied to situations within the countries such as famine, civil war, etc."
   ]
  },
  {
   "cell_type": "markdown",
   "metadata": {},
   "source": [
    "# U.S. Infant Mortality Rates Over Time Broken Down by Sex"
   ]
  },
  {
   "cell_type": "code",
   "execution_count": 59,
   "metadata": {},
   "outputs": [
    {
     "data": {
      "application/vnd.plotly.v1+json": {
       "config": {
        "plotlyServerURL": "https://plot.ly"
       },
       "data": [
        {
         "alignmentgroup": "True",
         "hovertemplate": "Sex=Female<br>TIME_PERIOD=%{x}<br>OBS_VALUE=%{y}<extra></extra>",
         "legendgroup": "Female",
         "marker": {
          "color": "#636efa"
         },
         "name": "Female",
         "offsetgroup": "Female",
         "orientation": "v",
         "showlegend": true,
         "textposition": "auto",
         "type": "bar",
         "x": [
          1950,
          1951,
          1952,
          1953,
          1954,
          1955,
          1956,
          1957,
          1958,
          1959,
          1960,
          1961,
          1962,
          1963,
          1964,
          1965,
          1966,
          1967,
          1968,
          1969,
          1970,
          1971,
          1972,
          1973,
          1974,
          1975,
          1976,
          1977,
          1978,
          1979,
          1980,
          1981,
          1982,
          1983,
          1984,
          1985,
          1986,
          1987,
          1988,
          1989,
          1990,
          1991,
          1992,
          1993,
          1994,
          1995,
          1996,
          1997,
          1998,
          1999,
          2000,
          2001,
          2002,
          2003,
          2004,
          2005,
          2006,
          2007,
          2008,
          2009,
          2010,
          2011,
          2012,
          2013,
          2014,
          2015,
          2016,
          2017,
          2018,
          2019
         ],
         "xaxis": "x",
         "y": [
          28.168602220415202,
          27.3682643266013,
          26.7254773618721,
          25.952198995733298,
          25.3031975427453,
          24.715349501784395,
          24.125917201942002,
          23.756835831192102,
          23.4120330102104,
          22.893702456756802,
          22.3963572113031,
          22.042162579162504,
          21.557677259565896,
          21.125716669427398,
          20.7425232109235,
          20.245783276932897,
          19.7345401904597,
          19.155309424654,
          18.5165992447205,
          17.9136855994655,
          17.3206451561962,
          16.626302732941998,
          15.9162284281883,
          15.2529029719521,
          14.6256550658621,
          14.0291455358917,
          13.428042625655,
          12.762500609901199,
          12.204425848580401,
          11.667764813280499,
          11.1943757054487,
          10.7740456383896,
          10.3492219433101,
          10.0148483270123,
          9.69978182055529,
          9.37299778392276,
          9.17458305177884,
          9.00651673239412,
          8.82723233327772,
          8.60248128482162,
          8.31793129080434,
          8.04006504938439,
          7.802700571578651,
          7.56203936227379,
          7.338349695187019,
          7.116460513677209,
          6.92062131513558,
          6.74520294563131,
          6.6430133148502994,
          6.511052935253639,
          6.4064002716355,
          6.312841640958919,
          6.233391466917321,
          6.14170229440373,
          6.10013110093673,
          6.04853634447761,
          5.99562152412321,
          5.92075801847634,
          5.85085741099981,
          5.73665751914351,
          5.6496932034517,
          5.566597899200441,
          5.4787912839766,
          5.397028419104919,
          5.3484512817401395,
          5.29858192902093,
          5.246886572349,
          5.1959191945937695,
          5.1328426272122405,
          5.053508993161549
         ],
         "yaxis": "y"
        },
        {
         "alignmentgroup": "True",
         "hovertemplate": "Sex=Male<br>TIME_PERIOD=%{x}<br>OBS_VALUE=%{y}<extra></extra>",
         "legendgroup": "Male",
         "marker": {
          "color": "#EF553B"
         },
         "name": "Male",
         "offsetgroup": "Male",
         "orientation": "v",
         "showlegend": true,
         "textposition": "auto",
         "type": "bar",
         "x": [
          1950,
          1951,
          1952,
          1953,
          1954,
          1955,
          1956,
          1957,
          1958,
          1959,
          1960,
          1961,
          1962,
          1963,
          1964,
          1965,
          1966,
          1967,
          1968,
          1969,
          1970,
          1971,
          1972,
          1973,
          1974,
          1975,
          1976,
          1977,
          1978,
          1979,
          1980,
          1981,
          1982,
          1983,
          1984,
          1985,
          1986,
          1987,
          1988,
          1989,
          1990,
          1991,
          1992,
          1993,
          1994,
          1995,
          1996,
          1997,
          1998,
          1999,
          2000,
          2001,
          2002,
          2003,
          2004,
          2005,
          2006,
          2007,
          2008,
          2009,
          2010,
          2011,
          2012,
          2013,
          2014,
          2015,
          2016,
          2017,
          2018,
          2019
         ],
         "xaxis": "x",
         "y": [
          36.523797261781795,
          35.5683942467235,
          34.5144261355695,
          33.6580812540478,
          32.7996757737571,
          32.0286248064488,
          31.4208955025474,
          30.7493997039534,
          30.128993045654898,
          29.6799177343091,
          29.2098686614697,
          28.589336058022198,
          28.067734005914698,
          27.471515647979103,
          26.774806919365002,
          26.141788154321198,
          25.455706627014,
          24.7576750903282,
          24.0302402104139,
          23.192988702442303,
          22.284462172568603,
          21.4276917965997,
          20.5627347350578,
          19.6407372943278,
          18.6932861289454,
          17.738740468295,
          16.842907835935303,
          16.082099797733,
          15.3076487239114,
          14.6131142384492,
          13.962875882662,
          13.3693969909934,
          12.894241628241598,
          12.4457590206516,
          12.096931750619198,
          11.856807192860902,
          11.5635043406268,
          11.2677926427845,
          10.9788377927049,
          10.6931165581065,
          10.4212039048114,
          10.1040856657815,
          9.72505121927076,
          9.354216686070759,
          9.00447310543722,
          8.70420614701203,
          8.446183178925361,
          8.24043741678334,
          8.03107309755674,
          7.9008617096871605,
          7.7876709025961395,
          7.70074227136356,
          7.6299529327768205,
          7.58464255948444,
          7.498530403155921,
          7.41181233337399,
          7.306274084239369,
          7.19858221120487,
          7.06146069445326,
          6.949329874219201,
          6.808375756277269,
          6.67568449786549,
          6.570456488539589,
          6.48380094367198,
          6.39045751326652,
          6.31769255800037,
          6.25863954438028,
          6.20112121417302,
          6.1300725569579395,
          6.0366825206997
         ],
         "yaxis": "y"
        }
       ],
       "layout": {
        "barmode": "group",
        "height": 400,
        "legend": {
         "title": {
          "text": "Sex"
         },
         "tracegroupgap": 0
        },
        "margin": {
         "t": 60
        },
        "template": {
         "data": {
          "bar": [
           {
            "error_x": {
             "color": "#2a3f5f"
            },
            "error_y": {
             "color": "#2a3f5f"
            },
            "marker": {
             "line": {
              "color": "#E5ECF6",
              "width": 0.5
             }
            },
            "type": "bar"
           }
          ],
          "barpolar": [
           {
            "marker": {
             "line": {
              "color": "#E5ECF6",
              "width": 0.5
             }
            },
            "type": "barpolar"
           }
          ],
          "carpet": [
           {
            "aaxis": {
             "endlinecolor": "#2a3f5f",
             "gridcolor": "white",
             "linecolor": "white",
             "minorgridcolor": "white",
             "startlinecolor": "#2a3f5f"
            },
            "baxis": {
             "endlinecolor": "#2a3f5f",
             "gridcolor": "white",
             "linecolor": "white",
             "minorgridcolor": "white",
             "startlinecolor": "#2a3f5f"
            },
            "type": "carpet"
           }
          ],
          "choropleth": [
           {
            "colorbar": {
             "outlinewidth": 0,
             "ticks": ""
            },
            "type": "choropleth"
           }
          ],
          "contour": [
           {
            "colorbar": {
             "outlinewidth": 0,
             "ticks": ""
            },
            "colorscale": [
             [
              0,
              "#0d0887"
             ],
             [
              0.1111111111111111,
              "#46039f"
             ],
             [
              0.2222222222222222,
              "#7201a8"
             ],
             [
              0.3333333333333333,
              "#9c179e"
             ],
             [
              0.4444444444444444,
              "#bd3786"
             ],
             [
              0.5555555555555556,
              "#d8576b"
             ],
             [
              0.6666666666666666,
              "#ed7953"
             ],
             [
              0.7777777777777778,
              "#fb9f3a"
             ],
             [
              0.8888888888888888,
              "#fdca26"
             ],
             [
              1,
              "#f0f921"
             ]
            ],
            "type": "contour"
           }
          ],
          "contourcarpet": [
           {
            "colorbar": {
             "outlinewidth": 0,
             "ticks": ""
            },
            "type": "contourcarpet"
           }
          ],
          "heatmap": [
           {
            "colorbar": {
             "outlinewidth": 0,
             "ticks": ""
            },
            "colorscale": [
             [
              0,
              "#0d0887"
             ],
             [
              0.1111111111111111,
              "#46039f"
             ],
             [
              0.2222222222222222,
              "#7201a8"
             ],
             [
              0.3333333333333333,
              "#9c179e"
             ],
             [
              0.4444444444444444,
              "#bd3786"
             ],
             [
              0.5555555555555556,
              "#d8576b"
             ],
             [
              0.6666666666666666,
              "#ed7953"
             ],
             [
              0.7777777777777778,
              "#fb9f3a"
             ],
             [
              0.8888888888888888,
              "#fdca26"
             ],
             [
              1,
              "#f0f921"
             ]
            ],
            "type": "heatmap"
           }
          ],
          "heatmapgl": [
           {
            "colorbar": {
             "outlinewidth": 0,
             "ticks": ""
            },
            "colorscale": [
             [
              0,
              "#0d0887"
             ],
             [
              0.1111111111111111,
              "#46039f"
             ],
             [
              0.2222222222222222,
              "#7201a8"
             ],
             [
              0.3333333333333333,
              "#9c179e"
             ],
             [
              0.4444444444444444,
              "#bd3786"
             ],
             [
              0.5555555555555556,
              "#d8576b"
             ],
             [
              0.6666666666666666,
              "#ed7953"
             ],
             [
              0.7777777777777778,
              "#fb9f3a"
             ],
             [
              0.8888888888888888,
              "#fdca26"
             ],
             [
              1,
              "#f0f921"
             ]
            ],
            "type": "heatmapgl"
           }
          ],
          "histogram": [
           {
            "marker": {
             "colorbar": {
              "outlinewidth": 0,
              "ticks": ""
             }
            },
            "type": "histogram"
           }
          ],
          "histogram2d": [
           {
            "colorbar": {
             "outlinewidth": 0,
             "ticks": ""
            },
            "colorscale": [
             [
              0,
              "#0d0887"
             ],
             [
              0.1111111111111111,
              "#46039f"
             ],
             [
              0.2222222222222222,
              "#7201a8"
             ],
             [
              0.3333333333333333,
              "#9c179e"
             ],
             [
              0.4444444444444444,
              "#bd3786"
             ],
             [
              0.5555555555555556,
              "#d8576b"
             ],
             [
              0.6666666666666666,
              "#ed7953"
             ],
             [
              0.7777777777777778,
              "#fb9f3a"
             ],
             [
              0.8888888888888888,
              "#fdca26"
             ],
             [
              1,
              "#f0f921"
             ]
            ],
            "type": "histogram2d"
           }
          ],
          "histogram2dcontour": [
           {
            "colorbar": {
             "outlinewidth": 0,
             "ticks": ""
            },
            "colorscale": [
             [
              0,
              "#0d0887"
             ],
             [
              0.1111111111111111,
              "#46039f"
             ],
             [
              0.2222222222222222,
              "#7201a8"
             ],
             [
              0.3333333333333333,
              "#9c179e"
             ],
             [
              0.4444444444444444,
              "#bd3786"
             ],
             [
              0.5555555555555556,
              "#d8576b"
             ],
             [
              0.6666666666666666,
              "#ed7953"
             ],
             [
              0.7777777777777778,
              "#fb9f3a"
             ],
             [
              0.8888888888888888,
              "#fdca26"
             ],
             [
              1,
              "#f0f921"
             ]
            ],
            "type": "histogram2dcontour"
           }
          ],
          "mesh3d": [
           {
            "colorbar": {
             "outlinewidth": 0,
             "ticks": ""
            },
            "type": "mesh3d"
           }
          ],
          "parcoords": [
           {
            "line": {
             "colorbar": {
              "outlinewidth": 0,
              "ticks": ""
             }
            },
            "type": "parcoords"
           }
          ],
          "pie": [
           {
            "automargin": true,
            "type": "pie"
           }
          ],
          "scatter": [
           {
            "marker": {
             "colorbar": {
              "outlinewidth": 0,
              "ticks": ""
             }
            },
            "type": "scatter"
           }
          ],
          "scatter3d": [
           {
            "line": {
             "colorbar": {
              "outlinewidth": 0,
              "ticks": ""
             }
            },
            "marker": {
             "colorbar": {
              "outlinewidth": 0,
              "ticks": ""
             }
            },
            "type": "scatter3d"
           }
          ],
          "scattercarpet": [
           {
            "marker": {
             "colorbar": {
              "outlinewidth": 0,
              "ticks": ""
             }
            },
            "type": "scattercarpet"
           }
          ],
          "scattergeo": [
           {
            "marker": {
             "colorbar": {
              "outlinewidth": 0,
              "ticks": ""
             }
            },
            "type": "scattergeo"
           }
          ],
          "scattergl": [
           {
            "marker": {
             "colorbar": {
              "outlinewidth": 0,
              "ticks": ""
             }
            },
            "type": "scattergl"
           }
          ],
          "scattermapbox": [
           {
            "marker": {
             "colorbar": {
              "outlinewidth": 0,
              "ticks": ""
             }
            },
            "type": "scattermapbox"
           }
          ],
          "scatterpolar": [
           {
            "marker": {
             "colorbar": {
              "outlinewidth": 0,
              "ticks": ""
             }
            },
            "type": "scatterpolar"
           }
          ],
          "scatterpolargl": [
           {
            "marker": {
             "colorbar": {
              "outlinewidth": 0,
              "ticks": ""
             }
            },
            "type": "scatterpolargl"
           }
          ],
          "scatterternary": [
           {
            "marker": {
             "colorbar": {
              "outlinewidth": 0,
              "ticks": ""
             }
            },
            "type": "scatterternary"
           }
          ],
          "surface": [
           {
            "colorbar": {
             "outlinewidth": 0,
             "ticks": ""
            },
            "colorscale": [
             [
              0,
              "#0d0887"
             ],
             [
              0.1111111111111111,
              "#46039f"
             ],
             [
              0.2222222222222222,
              "#7201a8"
             ],
             [
              0.3333333333333333,
              "#9c179e"
             ],
             [
              0.4444444444444444,
              "#bd3786"
             ],
             [
              0.5555555555555556,
              "#d8576b"
             ],
             [
              0.6666666666666666,
              "#ed7953"
             ],
             [
              0.7777777777777778,
              "#fb9f3a"
             ],
             [
              0.8888888888888888,
              "#fdca26"
             ],
             [
              1,
              "#f0f921"
             ]
            ],
            "type": "surface"
           }
          ],
          "table": [
           {
            "cells": {
             "fill": {
              "color": "#EBF0F8"
             },
             "line": {
              "color": "white"
             }
            },
            "header": {
             "fill": {
              "color": "#C8D4E3"
             },
             "line": {
              "color": "white"
             }
            },
            "type": "table"
           }
          ]
         },
         "layout": {
          "annotationdefaults": {
           "arrowcolor": "#2a3f5f",
           "arrowhead": 0,
           "arrowwidth": 1
          },
          "autotypenumbers": "strict",
          "coloraxis": {
           "colorbar": {
            "outlinewidth": 0,
            "ticks": ""
           }
          },
          "colorscale": {
           "diverging": [
            [
             0,
             "#8e0152"
            ],
            [
             0.1,
             "#c51b7d"
            ],
            [
             0.2,
             "#de77ae"
            ],
            [
             0.3,
             "#f1b6da"
            ],
            [
             0.4,
             "#fde0ef"
            ],
            [
             0.5,
             "#f7f7f7"
            ],
            [
             0.6,
             "#e6f5d0"
            ],
            [
             0.7,
             "#b8e186"
            ],
            [
             0.8,
             "#7fbc41"
            ],
            [
             0.9,
             "#4d9221"
            ],
            [
             1,
             "#276419"
            ]
           ],
           "sequential": [
            [
             0,
             "#0d0887"
            ],
            [
             0.1111111111111111,
             "#46039f"
            ],
            [
             0.2222222222222222,
             "#7201a8"
            ],
            [
             0.3333333333333333,
             "#9c179e"
            ],
            [
             0.4444444444444444,
             "#bd3786"
            ],
            [
             0.5555555555555556,
             "#d8576b"
            ],
            [
             0.6666666666666666,
             "#ed7953"
            ],
            [
             0.7777777777777778,
             "#fb9f3a"
            ],
            [
             0.8888888888888888,
             "#fdca26"
            ],
            [
             1,
             "#f0f921"
            ]
           ],
           "sequentialminus": [
            [
             0,
             "#0d0887"
            ],
            [
             0.1111111111111111,
             "#46039f"
            ],
            [
             0.2222222222222222,
             "#7201a8"
            ],
            [
             0.3333333333333333,
             "#9c179e"
            ],
            [
             0.4444444444444444,
             "#bd3786"
            ],
            [
             0.5555555555555556,
             "#d8576b"
            ],
            [
             0.6666666666666666,
             "#ed7953"
            ],
            [
             0.7777777777777778,
             "#fb9f3a"
            ],
            [
             0.8888888888888888,
             "#fdca26"
            ],
            [
             1,
             "#f0f921"
            ]
           ]
          },
          "colorway": [
           "#636efa",
           "#EF553B",
           "#00cc96",
           "#ab63fa",
           "#FFA15A",
           "#19d3f3",
           "#FF6692",
           "#B6E880",
           "#FF97FF",
           "#FECB52"
          ],
          "font": {
           "color": "#2a3f5f"
          },
          "geo": {
           "bgcolor": "white",
           "lakecolor": "white",
           "landcolor": "#E5ECF6",
           "showlakes": true,
           "showland": true,
           "subunitcolor": "white"
          },
          "hoverlabel": {
           "align": "left"
          },
          "hovermode": "closest",
          "mapbox": {
           "style": "light"
          },
          "paper_bgcolor": "white",
          "plot_bgcolor": "#E5ECF6",
          "polar": {
           "angularaxis": {
            "gridcolor": "white",
            "linecolor": "white",
            "ticks": ""
           },
           "bgcolor": "#E5ECF6",
           "radialaxis": {
            "gridcolor": "white",
            "linecolor": "white",
            "ticks": ""
           }
          },
          "scene": {
           "xaxis": {
            "backgroundcolor": "#E5ECF6",
            "gridcolor": "white",
            "gridwidth": 2,
            "linecolor": "white",
            "showbackground": true,
            "ticks": "",
            "zerolinecolor": "white"
           },
           "yaxis": {
            "backgroundcolor": "#E5ECF6",
            "gridcolor": "white",
            "gridwidth": 2,
            "linecolor": "white",
            "showbackground": true,
            "ticks": "",
            "zerolinecolor": "white"
           },
           "zaxis": {
            "backgroundcolor": "#E5ECF6",
            "gridcolor": "white",
            "gridwidth": 2,
            "linecolor": "white",
            "showbackground": true,
            "ticks": "",
            "zerolinecolor": "white"
           }
          },
          "shapedefaults": {
           "line": {
            "color": "#2a3f5f"
           }
          },
          "ternary": {
           "aaxis": {
            "gridcolor": "white",
            "linecolor": "white",
            "ticks": ""
           },
           "baxis": {
            "gridcolor": "white",
            "linecolor": "white",
            "ticks": ""
           },
           "bgcolor": "#E5ECF6",
           "caxis": {
            "gridcolor": "white",
            "linecolor": "white",
            "ticks": ""
           }
          },
          "title": {
           "x": 0.05
          },
          "xaxis": {
           "automargin": true,
           "gridcolor": "white",
           "linecolor": "white",
           "ticks": "",
           "title": {
            "standoff": 15
           },
           "zerolinecolor": "white",
           "zerolinewidth": 2
          },
          "yaxis": {
           "automargin": true,
           "gridcolor": "white",
           "linecolor": "white",
           "ticks": "",
           "title": {
            "standoff": 15
           },
           "zerolinecolor": "white",
           "zerolinewidth": 2
          }
         }
        },
        "xaxis": {
         "anchor": "y",
         "domain": [
          0,
          1
         ],
         "title": {
          "text": "TIME_PERIOD"
         }
        },
        "yaxis": {
         "anchor": "x",
         "domain": [
          0,
          1
         ],
         "title": {
          "text": "OBS_VALUE"
         }
        }
       }
      },
      "text/html": [
       "<div>                            <div id=\"30b3b206-66d8-4ca5-bc04-d96362a3807f\" class=\"plotly-graph-div\" style=\"height:400px; width:100%;\"></div>            <script type=\"text/javascript\">                require([\"plotly\"], function(Plotly) {                    window.PLOTLYENV=window.PLOTLYENV || {};                                    if (document.getElementById(\"30b3b206-66d8-4ca5-bc04-d96362a3807f\")) {                    Plotly.newPlot(                        \"30b3b206-66d8-4ca5-bc04-d96362a3807f\",                        [{\"alignmentgroup\": \"True\", \"hovertemplate\": \"Sex=Female<br>TIME_PERIOD=%{x}<br>OBS_VALUE=%{y}<extra></extra>\", \"legendgroup\": \"Female\", \"marker\": {\"color\": \"#636efa\"}, \"name\": \"Female\", \"offsetgroup\": \"Female\", \"orientation\": \"v\", \"showlegend\": true, \"textposition\": \"auto\", \"type\": \"bar\", \"x\": [1950, 1951, 1952, 1953, 1954, 1955, 1956, 1957, 1958, 1959, 1960, 1961, 1962, 1963, 1964, 1965, 1966, 1967, 1968, 1969, 1970, 1971, 1972, 1973, 1974, 1975, 1976, 1977, 1978, 1979, 1980, 1981, 1982, 1983, 1984, 1985, 1986, 1987, 1988, 1989, 1990, 1991, 1992, 1993, 1994, 1995, 1996, 1997, 1998, 1999, 2000, 2001, 2002, 2003, 2004, 2005, 2006, 2007, 2008, 2009, 2010, 2011, 2012, 2013, 2014, 2015, 2016, 2017, 2018, 2019], \"xaxis\": \"x\", \"y\": [28.168602220415202, 27.3682643266013, 26.7254773618721, 25.952198995733298, 25.3031975427453, 24.715349501784395, 24.125917201942002, 23.756835831192102, 23.4120330102104, 22.893702456756802, 22.3963572113031, 22.042162579162504, 21.557677259565896, 21.125716669427398, 20.7425232109235, 20.245783276932897, 19.7345401904597, 19.155309424654, 18.5165992447205, 17.9136855994655, 17.3206451561962, 16.626302732941998, 15.9162284281883, 15.2529029719521, 14.6256550658621, 14.0291455358917, 13.428042625655, 12.762500609901199, 12.204425848580401, 11.667764813280499, 11.1943757054487, 10.7740456383896, 10.3492219433101, 10.0148483270123, 9.69978182055529, 9.37299778392276, 9.17458305177884, 9.00651673239412, 8.82723233327772, 8.60248128482162, 8.31793129080434, 8.04006504938439, 7.802700571578651, 7.56203936227379, 7.338349695187019, 7.116460513677209, 6.92062131513558, 6.74520294563131, 6.6430133148502994, 6.511052935253639, 6.4064002716355, 6.312841640958919, 6.233391466917321, 6.14170229440373, 6.10013110093673, 6.04853634447761, 5.99562152412321, 5.92075801847634, 5.85085741099981, 5.73665751914351, 5.6496932034517, 5.566597899200441, 5.4787912839766, 5.397028419104919, 5.3484512817401395, 5.29858192902093, 5.246886572349, 5.1959191945937695, 5.1328426272122405, 5.053508993161549], \"yaxis\": \"y\"}, {\"alignmentgroup\": \"True\", \"hovertemplate\": \"Sex=Male<br>TIME_PERIOD=%{x}<br>OBS_VALUE=%{y}<extra></extra>\", \"legendgroup\": \"Male\", \"marker\": {\"color\": \"#EF553B\"}, \"name\": \"Male\", \"offsetgroup\": \"Male\", \"orientation\": \"v\", \"showlegend\": true, \"textposition\": \"auto\", \"type\": \"bar\", \"x\": [1950, 1951, 1952, 1953, 1954, 1955, 1956, 1957, 1958, 1959, 1960, 1961, 1962, 1963, 1964, 1965, 1966, 1967, 1968, 1969, 1970, 1971, 1972, 1973, 1974, 1975, 1976, 1977, 1978, 1979, 1980, 1981, 1982, 1983, 1984, 1985, 1986, 1987, 1988, 1989, 1990, 1991, 1992, 1993, 1994, 1995, 1996, 1997, 1998, 1999, 2000, 2001, 2002, 2003, 2004, 2005, 2006, 2007, 2008, 2009, 2010, 2011, 2012, 2013, 2014, 2015, 2016, 2017, 2018, 2019], \"xaxis\": \"x\", \"y\": [36.523797261781795, 35.5683942467235, 34.5144261355695, 33.6580812540478, 32.7996757737571, 32.0286248064488, 31.4208955025474, 30.7493997039534, 30.128993045654898, 29.6799177343091, 29.2098686614697, 28.589336058022198, 28.067734005914698, 27.471515647979103, 26.774806919365002, 26.141788154321198, 25.455706627014, 24.7576750903282, 24.0302402104139, 23.192988702442303, 22.284462172568603, 21.4276917965997, 20.5627347350578, 19.6407372943278, 18.6932861289454, 17.738740468295, 16.842907835935303, 16.082099797733, 15.3076487239114, 14.6131142384492, 13.962875882662, 13.3693969909934, 12.894241628241598, 12.4457590206516, 12.096931750619198, 11.856807192860902, 11.5635043406268, 11.2677926427845, 10.9788377927049, 10.6931165581065, 10.4212039048114, 10.1040856657815, 9.72505121927076, 9.354216686070759, 9.00447310543722, 8.70420614701203, 8.446183178925361, 8.24043741678334, 8.03107309755674, 7.9008617096871605, 7.7876709025961395, 7.70074227136356, 7.6299529327768205, 7.58464255948444, 7.498530403155921, 7.41181233337399, 7.306274084239369, 7.19858221120487, 7.06146069445326, 6.949329874219201, 6.808375756277269, 6.67568449786549, 6.570456488539589, 6.48380094367198, 6.39045751326652, 6.31769255800037, 6.25863954438028, 6.20112121417302, 6.1300725569579395, 6.0366825206997], \"yaxis\": \"y\"}],                        {\"barmode\": \"group\", \"height\": 400, \"legend\": {\"title\": {\"text\": \"Sex\"}, \"tracegroupgap\": 0}, \"margin\": {\"t\": 60}, \"template\": {\"data\": {\"bar\": [{\"error_x\": {\"color\": \"#2a3f5f\"}, \"error_y\": {\"color\": \"#2a3f5f\"}, \"marker\": {\"line\": {\"color\": \"#E5ECF6\", \"width\": 0.5}}, \"type\": \"bar\"}], \"barpolar\": [{\"marker\": {\"line\": {\"color\": \"#E5ECF6\", \"width\": 0.5}}, \"type\": \"barpolar\"}], \"carpet\": [{\"aaxis\": {\"endlinecolor\": \"#2a3f5f\", \"gridcolor\": \"white\", \"linecolor\": \"white\", \"minorgridcolor\": \"white\", \"startlinecolor\": \"#2a3f5f\"}, \"baxis\": {\"endlinecolor\": \"#2a3f5f\", \"gridcolor\": \"white\", \"linecolor\": \"white\", \"minorgridcolor\": \"white\", \"startlinecolor\": \"#2a3f5f\"}, \"type\": \"carpet\"}], \"choropleth\": [{\"colorbar\": {\"outlinewidth\": 0, \"ticks\": \"\"}, \"type\": \"choropleth\"}], \"contour\": [{\"colorbar\": {\"outlinewidth\": 0, \"ticks\": \"\"}, \"colorscale\": [[0.0, \"#0d0887\"], [0.1111111111111111, \"#46039f\"], [0.2222222222222222, \"#7201a8\"], [0.3333333333333333, \"#9c179e\"], [0.4444444444444444, \"#bd3786\"], [0.5555555555555556, \"#d8576b\"], [0.6666666666666666, \"#ed7953\"], [0.7777777777777778, \"#fb9f3a\"], [0.8888888888888888, \"#fdca26\"], [1.0, \"#f0f921\"]], \"type\": \"contour\"}], \"contourcarpet\": [{\"colorbar\": {\"outlinewidth\": 0, \"ticks\": \"\"}, \"type\": \"contourcarpet\"}], \"heatmap\": [{\"colorbar\": {\"outlinewidth\": 0, \"ticks\": \"\"}, \"colorscale\": [[0.0, \"#0d0887\"], [0.1111111111111111, \"#46039f\"], [0.2222222222222222, \"#7201a8\"], [0.3333333333333333, \"#9c179e\"], [0.4444444444444444, \"#bd3786\"], [0.5555555555555556, \"#d8576b\"], [0.6666666666666666, \"#ed7953\"], [0.7777777777777778, \"#fb9f3a\"], [0.8888888888888888, \"#fdca26\"], [1.0, \"#f0f921\"]], \"type\": \"heatmap\"}], \"heatmapgl\": [{\"colorbar\": {\"outlinewidth\": 0, \"ticks\": \"\"}, \"colorscale\": [[0.0, \"#0d0887\"], [0.1111111111111111, \"#46039f\"], [0.2222222222222222, \"#7201a8\"], [0.3333333333333333, \"#9c179e\"], [0.4444444444444444, \"#bd3786\"], [0.5555555555555556, \"#d8576b\"], [0.6666666666666666, \"#ed7953\"], [0.7777777777777778, \"#fb9f3a\"], [0.8888888888888888, \"#fdca26\"], [1.0, \"#f0f921\"]], \"type\": \"heatmapgl\"}], \"histogram\": [{\"marker\": {\"colorbar\": {\"outlinewidth\": 0, \"ticks\": \"\"}}, \"type\": \"histogram\"}], \"histogram2d\": [{\"colorbar\": {\"outlinewidth\": 0, \"ticks\": \"\"}, \"colorscale\": [[0.0, \"#0d0887\"], [0.1111111111111111, \"#46039f\"], [0.2222222222222222, \"#7201a8\"], [0.3333333333333333, \"#9c179e\"], [0.4444444444444444, \"#bd3786\"], [0.5555555555555556, \"#d8576b\"], [0.6666666666666666, \"#ed7953\"], [0.7777777777777778, \"#fb9f3a\"], [0.8888888888888888, \"#fdca26\"], [1.0, \"#f0f921\"]], \"type\": \"histogram2d\"}], \"histogram2dcontour\": [{\"colorbar\": {\"outlinewidth\": 0, \"ticks\": \"\"}, \"colorscale\": [[0.0, \"#0d0887\"], [0.1111111111111111, \"#46039f\"], [0.2222222222222222, \"#7201a8\"], [0.3333333333333333, \"#9c179e\"], [0.4444444444444444, \"#bd3786\"], [0.5555555555555556, \"#d8576b\"], [0.6666666666666666, \"#ed7953\"], [0.7777777777777778, \"#fb9f3a\"], [0.8888888888888888, \"#fdca26\"], [1.0, \"#f0f921\"]], \"type\": \"histogram2dcontour\"}], \"mesh3d\": [{\"colorbar\": {\"outlinewidth\": 0, \"ticks\": \"\"}, \"type\": \"mesh3d\"}], \"parcoords\": [{\"line\": {\"colorbar\": {\"outlinewidth\": 0, \"ticks\": \"\"}}, \"type\": \"parcoords\"}], \"pie\": [{\"automargin\": true, \"type\": \"pie\"}], \"scatter\": [{\"marker\": {\"colorbar\": {\"outlinewidth\": 0, \"ticks\": \"\"}}, \"type\": \"scatter\"}], \"scatter3d\": [{\"line\": {\"colorbar\": {\"outlinewidth\": 0, \"ticks\": \"\"}}, \"marker\": {\"colorbar\": {\"outlinewidth\": 0, \"ticks\": \"\"}}, \"type\": \"scatter3d\"}], \"scattercarpet\": [{\"marker\": {\"colorbar\": {\"outlinewidth\": 0, \"ticks\": \"\"}}, \"type\": \"scattercarpet\"}], \"scattergeo\": [{\"marker\": {\"colorbar\": {\"outlinewidth\": 0, \"ticks\": \"\"}}, \"type\": \"scattergeo\"}], \"scattergl\": [{\"marker\": {\"colorbar\": {\"outlinewidth\": 0, \"ticks\": \"\"}}, \"type\": \"scattergl\"}], \"scattermapbox\": [{\"marker\": {\"colorbar\": {\"outlinewidth\": 0, \"ticks\": \"\"}}, \"type\": \"scattermapbox\"}], \"scatterpolar\": [{\"marker\": {\"colorbar\": {\"outlinewidth\": 0, \"ticks\": \"\"}}, \"type\": \"scatterpolar\"}], \"scatterpolargl\": [{\"marker\": {\"colorbar\": {\"outlinewidth\": 0, \"ticks\": \"\"}}, \"type\": \"scatterpolargl\"}], \"scatterternary\": [{\"marker\": {\"colorbar\": {\"outlinewidth\": 0, \"ticks\": \"\"}}, \"type\": \"scatterternary\"}], \"surface\": [{\"colorbar\": {\"outlinewidth\": 0, \"ticks\": \"\"}, \"colorscale\": [[0.0, \"#0d0887\"], [0.1111111111111111, \"#46039f\"], [0.2222222222222222, \"#7201a8\"], [0.3333333333333333, \"#9c179e\"], [0.4444444444444444, \"#bd3786\"], [0.5555555555555556, \"#d8576b\"], [0.6666666666666666, \"#ed7953\"], [0.7777777777777778, \"#fb9f3a\"], [0.8888888888888888, \"#fdca26\"], [1.0, \"#f0f921\"]], \"type\": \"surface\"}], \"table\": [{\"cells\": {\"fill\": {\"color\": \"#EBF0F8\"}, \"line\": {\"color\": \"white\"}}, \"header\": {\"fill\": {\"color\": \"#C8D4E3\"}, \"line\": {\"color\": \"white\"}}, \"type\": \"table\"}]}, \"layout\": {\"annotationdefaults\": {\"arrowcolor\": \"#2a3f5f\", \"arrowhead\": 0, \"arrowwidth\": 1}, \"autotypenumbers\": \"strict\", \"coloraxis\": {\"colorbar\": {\"outlinewidth\": 0, \"ticks\": \"\"}}, \"colorscale\": {\"diverging\": [[0, \"#8e0152\"], [0.1, \"#c51b7d\"], [0.2, \"#de77ae\"], [0.3, \"#f1b6da\"], [0.4, \"#fde0ef\"], [0.5, \"#f7f7f7\"], [0.6, \"#e6f5d0\"], [0.7, \"#b8e186\"], [0.8, \"#7fbc41\"], [0.9, \"#4d9221\"], [1, \"#276419\"]], \"sequential\": [[0.0, \"#0d0887\"], [0.1111111111111111, \"#46039f\"], [0.2222222222222222, \"#7201a8\"], [0.3333333333333333, \"#9c179e\"], [0.4444444444444444, \"#bd3786\"], [0.5555555555555556, \"#d8576b\"], [0.6666666666666666, \"#ed7953\"], [0.7777777777777778, \"#fb9f3a\"], [0.8888888888888888, \"#fdca26\"], [1.0, \"#f0f921\"]], \"sequentialminus\": [[0.0, \"#0d0887\"], [0.1111111111111111, \"#46039f\"], [0.2222222222222222, \"#7201a8\"], [0.3333333333333333, \"#9c179e\"], [0.4444444444444444, \"#bd3786\"], [0.5555555555555556, \"#d8576b\"], [0.6666666666666666, \"#ed7953\"], [0.7777777777777778, \"#fb9f3a\"], [0.8888888888888888, \"#fdca26\"], [1.0, \"#f0f921\"]]}, \"colorway\": [\"#636efa\", \"#EF553B\", \"#00cc96\", \"#ab63fa\", \"#FFA15A\", \"#19d3f3\", \"#FF6692\", \"#B6E880\", \"#FF97FF\", \"#FECB52\"], \"font\": {\"color\": \"#2a3f5f\"}, \"geo\": {\"bgcolor\": \"white\", \"lakecolor\": \"white\", \"landcolor\": \"#E5ECF6\", \"showlakes\": true, \"showland\": true, \"subunitcolor\": \"white\"}, \"hoverlabel\": {\"align\": \"left\"}, \"hovermode\": \"closest\", \"mapbox\": {\"style\": \"light\"}, \"paper_bgcolor\": \"white\", \"plot_bgcolor\": \"#E5ECF6\", \"polar\": {\"angularaxis\": {\"gridcolor\": \"white\", \"linecolor\": \"white\", \"ticks\": \"\"}, \"bgcolor\": \"#E5ECF6\", \"radialaxis\": {\"gridcolor\": \"white\", \"linecolor\": \"white\", \"ticks\": \"\"}}, \"scene\": {\"xaxis\": {\"backgroundcolor\": \"#E5ECF6\", \"gridcolor\": \"white\", \"gridwidth\": 2, \"linecolor\": \"white\", \"showbackground\": true, \"ticks\": \"\", \"zerolinecolor\": \"white\"}, \"yaxis\": {\"backgroundcolor\": \"#E5ECF6\", \"gridcolor\": \"white\", \"gridwidth\": 2, \"linecolor\": \"white\", \"showbackground\": true, \"ticks\": \"\", \"zerolinecolor\": \"white\"}, \"zaxis\": {\"backgroundcolor\": \"#E5ECF6\", \"gridcolor\": \"white\", \"gridwidth\": 2, \"linecolor\": \"white\", \"showbackground\": true, \"ticks\": \"\", \"zerolinecolor\": \"white\"}}, \"shapedefaults\": {\"line\": {\"color\": \"#2a3f5f\"}}, \"ternary\": {\"aaxis\": {\"gridcolor\": \"white\", \"linecolor\": \"white\", \"ticks\": \"\"}, \"baxis\": {\"gridcolor\": \"white\", \"linecolor\": \"white\", \"ticks\": \"\"}, \"bgcolor\": \"#E5ECF6\", \"caxis\": {\"gridcolor\": \"white\", \"linecolor\": \"white\", \"ticks\": \"\"}}, \"title\": {\"x\": 0.05}, \"xaxis\": {\"automargin\": true, \"gridcolor\": \"white\", \"linecolor\": \"white\", \"ticks\": \"\", \"title\": {\"standoff\": 15}, \"zerolinecolor\": \"white\", \"zerolinewidth\": 2}, \"yaxis\": {\"automargin\": true, \"gridcolor\": \"white\", \"linecolor\": \"white\", \"ticks\": \"\", \"title\": {\"standoff\": 15}, \"zerolinecolor\": \"white\", \"zerolinewidth\": 2}}}, \"xaxis\": {\"anchor\": \"y\", \"domain\": [0.0, 1.0], \"title\": {\"text\": \"TIME_PERIOD\"}}, \"yaxis\": {\"anchor\": \"x\", \"domain\": [0.0, 1.0], \"title\": {\"text\": \"OBS_VALUE\"}}},                        {\"responsive\": true}                    ).then(function(){\n",
       "                            \n",
       "var gd = document.getElementById('30b3b206-66d8-4ca5-bc04-d96362a3807f');\n",
       "var x = new MutationObserver(function (mutations, observer) {{\n",
       "        var display = window.getComputedStyle(gd).display;\n",
       "        if (!display || display === 'none') {{\n",
       "            console.log([gd, 'removed!']);\n",
       "            Plotly.purge(gd);\n",
       "            observer.disconnect();\n",
       "        }}\n",
       "}});\n",
       "\n",
       "// Listen for the removal of the full notebook cells\n",
       "var notebookContainer = gd.closest('#notebook-container');\n",
       "if (notebookContainer) {{\n",
       "    x.observe(notebookContainer, {childList: true});\n",
       "}}\n",
       "\n",
       "// Listen for the clearing of the current output cell\n",
       "var outputEl = gd.closest('.output');\n",
       "if (outputEl) {{\n",
       "    x.observe(outputEl, {childList: true});\n",
       "}}\n",
       "\n",
       "                        })                };                });            </script>        </div>"
      ]
     },
     "metadata": {},
     "output_type": "display_data"
    }
   ],
   "source": [
    "fig = px.bar(data_sex[(data_sex['Country'] == 'United States')], x=\"TIME_PERIOD\", y=\"OBS_VALUE\", color='Sex', barmode='group', height=400)\n",
    "fig.show()"
   ]
  },
  {
   "cell_type": "markdown",
   "metadata": {},
   "source": [
    "In the U.S. we see the decline Infant deaths since 1950, however it is notable that Male Infant Mortality rate is higher than that of Females during 1950 to 1980 when the gap begins to close."
   ]
  },
  {
   "cell_type": "markdown",
   "metadata": {},
   "source": [
    "# Next Steps"
   ]
  },
  {
   "cell_type": "markdown",
   "metadata": {},
   "source": [
    "Next steps in this analysis would be to build a Dash app that allows us to utilize the entire dataset that UNICEF provides. The app will allow us to filter by country easier and allow us to choose the indicator we wish to look at."
   ]
  }
 ],
 "metadata": {
  "kernelspec": {
   "display_name": "Python 3",
   "language": "python",
   "name": "python3"
  },
  "language_info": {
   "codemirror_mode": {
    "name": "ipython",
    "version": 3
   },
   "file_extension": ".py",
   "mimetype": "text/x-python",
   "name": "python",
   "nbconvert_exporter": "python",
   "pygments_lexer": "ipython3",
   "version": "3.8.5"
  }
 },
 "nbformat": 4,
 "nbformat_minor": 4
}
